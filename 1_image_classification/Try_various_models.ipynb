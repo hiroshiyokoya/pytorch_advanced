{
 "cells": [
  {
   "cell_type": "markdown",
   "metadata": {},
   "source": [
    "# 1.5 「ファインチューニング」で精度向上を実現する方法\n",
    "\n",
    "- 本ファイルでは、学習済みのVGGモデルを使用し、ファインチューニングでアリとハチの画像を分類するモデルを学習します\n",
    "\n"
   ]
  },
  {
   "cell_type": "markdown",
   "metadata": {},
   "source": [
    "# 学習目標\n",
    "\n",
    "1.\tPyTorchでGPUを使用する実装コードを書けるようになる\n",
    "2.\t最適化手法の設定において、層ごとに異なる学習率を設定したファインチューニングを実装できるようになる\n",
    "3.\t学習したネットワークを保存・ロードできるようになる\n",
    "\n"
   ]
  },
  {
   "cell_type": "markdown",
   "metadata": {},
   "source": [
    "# 事前準備\n",
    "\n",
    "- 1.4節で解説したAWS EC2 のGPUインスタンスを使用します\n"
   ]
  },
  {
   "cell_type": "code",
   "execution_count": 4,
   "metadata": {},
   "outputs": [],
   "source": [
    "# パッケージのimport\n",
    "import random\n",
    "\n",
    "import numpy as np\n",
    "import torch\n",
    "import torch.nn as nn\n",
    "import torch.optim as optim\n",
    "from torchvision import models\n",
    "from tqdm import tqdm"
   ]
  },
  {
   "cell_type": "code",
   "execution_count": 5,
   "metadata": {},
   "outputs": [],
   "source": [
    "# 乱数のシードを設定\n",
    "torch.manual_seed(1234)\n",
    "np.random.seed(1234)\n",
    "random.seed(1234)"
   ]
  },
  {
   "cell_type": "code",
   "execution_count": 22,
   "metadata": {
    "tags": []
   },
   "outputs": [],
   "source": [
    "size = 224\n",
    "mean = (0.485, 0.456, 0.406)\n",
    "std = (0.229, 0.224, 0.225)"
   ]
  },
  {
   "cell_type": "code",
   "execution_count": 32,
   "metadata": {
    "tags": []
   },
   "outputs": [],
   "source": [
    "OUTPUT_FEATURES = 2\n",
    "\n",
    "LEARNING_RATE = 0.1\n",
    "MOMENTUM = 0.9\n",
    "\n",
    "NUM_EPOCHS = 2"
   ]
  },
  {
   "cell_type": "markdown",
   "metadata": {},
   "source": [
    "# DatasetとDataLoaderを作成"
   ]
  },
  {
   "cell_type": "code",
   "execution_count": 24,
   "metadata": {},
   "outputs": [
    {
     "name": "stdout",
     "output_type": "stream",
     "text": [
      "./data/hymenoptera_data/train/**/*.jpg\n",
      "./data/hymenoptera_data/val/**/*.jpg\n"
     ]
    }
   ],
   "source": [
    "# 1.3節で作成したクラスを同じフォルダにあるmake_dataset_dataloader.pyに記載して使用\n",
    "from utils.dataloader_image_classification import (\n",
    "    HymenopteraDataset,\n",
    "    ImageTransform,\n",
    "    make_datapath_list,\n",
    ")\n",
    "\n",
    "# アリとハチの画像へのファイルパスのリストを作成する\n",
    "train_list = make_datapath_list(phase=\"train\")\n",
    "val_list = make_datapath_list(phase=\"val\")\n",
    "\n",
    "# Datasetを作成する\n",
    "train_dataset = HymenopteraDataset(\n",
    "    file_list=train_list, transform=ImageTransform(size, mean, std), phase=\"train\"\n",
    ")\n",
    "\n",
    "val_dataset = HymenopteraDataset(\n",
    "    file_list=val_list, transform=ImageTransform(size, mean, std), phase=\"val\"\n",
    ")\n",
    "\n",
    "\n",
    "# DataLoaderを作成する\n",
    "batch_size = 32\n",
    "\n",
    "train_dataloader = torch.utils.data.DataLoader(\n",
    "    train_dataset, batch_size=batch_size, shuffle=True\n",
    ")\n",
    "\n",
    "val_dataloader = torch.utils.data.DataLoader(\n",
    "    val_dataset, batch_size=batch_size, shuffle=False\n",
    ")\n",
    "\n",
    "# 辞書オブジェクトにまとめる\n",
    "dataloaders_dict = {\"train\": train_dataloader, \"val\": val_dataloader}"
   ]
  },
  {
   "cell_type": "markdown",
   "metadata": {},
   "source": [
    "# モデルを学習させる関数を作成"
   ]
  },
  {
   "cell_type": "code",
   "execution_count": 31,
   "metadata": {},
   "outputs": [],
   "source": [
    "def train_model(net, dataloaders_dict, criterion, optimizer, num_epochs):\n",
    "    # 初期設定\n",
    "    # GPUが使えるかを確認\n",
    "    device = torch.device(\"cuda:0\" if torch.cuda.is_available() else \"cpu\")\n",
    "    print(\"使用デバイス：\", device)\n",
    "\n",
    "    # ネットワークをGPUへ\n",
    "    net.to(device)\n",
    "\n",
    "    # ネットワークがある程度固定であれば、高速化させる\n",
    "    torch.backends.cudnn.benchmark = True\n",
    "\n",
    "    # epochのループ\n",
    "    for epoch in range(num_epochs):\n",
    "        print(\"Epoch {}/{}\".format(epoch + 1, num_epochs))\n",
    "        print(\"-------------\")\n",
    "\n",
    "        # epochごとの訓練と検証のループ\n",
    "        for phase in [\"train\", \"val\"]:\n",
    "            if phase == \"train\":\n",
    "                net.train()  # モデルを訓練モードに\n",
    "            else:\n",
    "                net.eval()  # モデルを検証モードに\n",
    "\n",
    "            epoch_loss = 0.0  # epochの損失和\n",
    "            epoch_corrects = 0  # epochの正解数\n",
    "\n",
    "            # 未学習時の検証性能を確かめるため、epoch=0の訓練は省略\n",
    "            if (epoch == 0) and (phase == \"train\"):\n",
    "                continue\n",
    "\n",
    "            # データローダーからミニバッチを取り出すループ\n",
    "            for inputs, labels in tqdm(dataloaders_dict[phase]):\n",
    "                # GPUが使えるならGPUにデータを送る\n",
    "                inputs = inputs.to(device)\n",
    "                labels = labels.to(device)\n",
    "\n",
    "                # optimizerを初期化\n",
    "                optimizer.zero_grad()\n",
    "\n",
    "                # 順伝搬（forward）計算\n",
    "                with torch.set_grad_enabled(phase == \"train\"):\n",
    "                    outputs = net(inputs)\n",
    "                    loss = criterion(outputs, labels)  # 損失を計算\n",
    "                    _, preds = torch.max(outputs, 1)  # ラベルを予測\n",
    "\n",
    "                    # 訓練時はバックプロパゲーション\n",
    "                    if phase == \"train\":\n",
    "                        loss.backward()\n",
    "                        optimizer.step()\n",
    "\n",
    "                    # 結果の計算\n",
    "                    epoch_loss += loss.item() * inputs.size(0)  # lossの合計を更新\n",
    "                    # 正解数の合計を更新\n",
    "                    epoch_corrects += torch.sum(preds == labels.data)\n",
    "\n",
    "            # epochごとのlossと正解率を表示\n",
    "            epoch_loss = epoch_loss / len(dataloaders_dict[phase].dataset)\n",
    "            epoch_acc = epoch_corrects.double() / len(dataloaders_dict[phase].dataset)\n",
    "\n",
    "            print(\"{} Loss: {:.4f} Acc: {:.4f}\".format(phase, epoch_loss, epoch_acc))"
   ]
  },
  {
   "cell_type": "markdown",
   "metadata": {},
   "source": [
    "# 損失関数を定義"
   ]
  },
  {
   "cell_type": "code",
   "execution_count": 25,
   "metadata": {},
   "outputs": [],
   "source": [
    "# 損失関数の設定\n",
    "criterion = nn.CrossEntropyLoss()"
   ]
  },
  {
   "cell_type": "markdown",
   "metadata": {},
   "source": [
    "# ネットワークモデルの作成"
   ]
  },
  {
   "cell_type": "code",
   "execution_count": 26,
   "metadata": {
    "tags": []
   },
   "outputs": [],
   "source": [
    "vgg_models = {\n",
    "    \"vgg16\": (models.vgg16, models.VGG16_Weights.DEFAULT),\n",
    "    \"vgg16_bn\": (models.vgg16_bn, models.VGG16_BN_Weights.DEFAULT),\n",
    "    \"vgg19_bn\": (models.vgg19, models.VGG19_Weights.DEFAULT),\n",
    "    \"vgg19_bn\": (models.vgg19_bn, models.VGG19_BN_Weights.DEFAULT),\n",
    "}"
   ]
  },
  {
   "cell_type": "code",
   "execution_count": 33,
   "metadata": {
    "tags": []
   },
   "outputs": [
    {
     "name": "stdout",
     "output_type": "stream",
     "text": [
      "weight\n",
      "bias\n",
      "-----------\n",
      "[Parameter containing:\n",
      "tensor([[ 0.0085,  0.0117,  0.0149,  ...,  0.0094,  0.0092, -0.0028],\n",
      "        [-0.0146, -0.0013,  0.0002,  ..., -0.0089,  0.0073, -0.0025]],\n",
      "       requires_grad=True), Parameter containing:\n",
      "tensor([-0.0001,  0.0074], requires_grad=True)]\n",
      "使用デバイス： cpu\n",
      "Epoch 1/2\n",
      "-------------\n"
     ]
    },
    {
     "name": "stderr",
     "output_type": "stream",
     "text": [
      "100%|██████████| 5/5 [01:36<00:00, 19.22s/it]\n"
     ]
    },
    {
     "name": "stdout",
     "output_type": "stream",
     "text": [
      "val Loss: 0.8600 Acc: 0.4248\n",
      "Epoch 2/2\n",
      "-------------\n"
     ]
    },
    {
     "name": "stderr",
     "output_type": "stream",
     "text": [
      "100%|██████████| 8/8 [02:12<00:00, 16.61s/it]\n"
     ]
    },
    {
     "name": "stdout",
     "output_type": "stream",
     "text": [
      "train Loss: 4.5838 Acc: 0.7860\n"
     ]
    },
    {
     "name": "stderr",
     "output_type": "stream",
     "text": [
      "100%|██████████| 5/5 [01:13<00:00, 14.65s/it]\n"
     ]
    },
    {
     "name": "stdout",
     "output_type": "stream",
     "text": [
      "val Loss: 1.9793 Acc: 0.9542\n",
      "weight\n",
      "bias\n",
      "-----------\n",
      "[Parameter containing:\n",
      "tensor([[-0.0004,  0.0026, -0.0017,  ...,  0.0032, -0.0136, -0.0093],\n",
      "        [ 0.0006, -0.0059,  0.0019,  ...,  0.0009, -0.0149,  0.0155]],\n",
      "       requires_grad=True), Parameter containing:\n",
      "tensor([-0.0043, -0.0047], requires_grad=True)]\n",
      "使用デバイス： cpu\n",
      "Epoch 1/2\n",
      "-------------\n"
     ]
    },
    {
     "name": "stderr",
     "output_type": "stream",
     "text": [
      "100%|██████████| 5/5 [01:33<00:00, 18.61s/it]\n"
     ]
    },
    {
     "name": "stdout",
     "output_type": "stream",
     "text": [
      "val Loss: 0.8842 Acc: 0.1438\n",
      "Epoch 2/2\n",
      "-------------\n"
     ]
    },
    {
     "name": "stderr",
     "output_type": "stream",
     "text": [
      "100%|██████████| 8/8 [02:02<00:00, 15.31s/it]\n"
     ]
    },
    {
     "name": "stdout",
     "output_type": "stream",
     "text": [
      "train Loss: 0.6375 Acc: 0.8272\n"
     ]
    },
    {
     "name": "stderr",
     "output_type": "stream",
     "text": [
      "100%|██████████| 5/5 [01:18<00:00, 15.77s/it]\n"
     ]
    },
    {
     "name": "stdout",
     "output_type": "stream",
     "text": [
      "val Loss: 0.4705 Acc: 0.9477\n",
      "weight\n",
      "bias\n",
      "-----------\n",
      "[Parameter containing:\n",
      "tensor([[ 0.0080, -0.0009, -0.0156,  ...,  0.0014, -0.0014, -0.0145],\n",
      "        [ 0.0032, -0.0101, -0.0093,  ...,  0.0034,  0.0090, -0.0036]],\n",
      "       requires_grad=True), Parameter containing:\n",
      "tensor([0.0079, 0.0114], requires_grad=True)]\n",
      "使用デバイス： cpu\n",
      "Epoch 1/2\n",
      "-------------\n"
     ]
    },
    {
     "name": "stderr",
     "output_type": "stream",
     "text": [
      "100%|██████████| 5/5 [02:03<00:00, 24.68s/it]\n"
     ]
    },
    {
     "name": "stdout",
     "output_type": "stream",
     "text": [
      "val Loss: 0.6817 Acc: 0.5359\n",
      "Epoch 2/2\n",
      "-------------\n"
     ]
    },
    {
     "name": "stderr",
     "output_type": "stream",
     "text": [
      "100%|██████████| 8/8 [03:54<00:00, 29.36s/it]\n"
     ]
    },
    {
     "name": "stdout",
     "output_type": "stream",
     "text": [
      "train Loss: 0.9936 Acc: 0.7737\n"
     ]
    },
    {
     "name": "stderr",
     "output_type": "stream",
     "text": [
      "100%|██████████| 5/5 [02:31<00:00, 30.35s/it]"
     ]
    },
    {
     "name": "stdout",
     "output_type": "stream",
     "text": [
      "val Loss: 1.0786 Acc: 0.9477\n"
     ]
    },
    {
     "name": "stderr",
     "output_type": "stream",
     "text": [
      "\n"
     ]
    }
   ],
   "source": [
    "use_pretrained = True\n",
    "\n",
    "for name, (model, weights) in vgg_models.items():\n",
    "    _net = model(weights=weights)\n",
    "    num_classifier_layers = len(_net.classifier)\n",
    "    last_in_features = _net.classifier[num_classifier_layers - 1].in_features\n",
    "    _net.classifier[num_classifier_layers - 1] = nn.Linear(\n",
    "        in_features=last_in_features, out_features=OUTPUT_FEATURES\n",
    "    )\n",
    "    _net.train()\n",
    "    print(name, num_classifier_layers, last_in_featuresatures)\n",
    "\n",
    "    # 学習させるパラメータ以外は勾配計算をなくし、変化しないように設定\n",
    "    for name, param in _net.named_parameters():\n",
    "        param.requires_grad = False\n",
    "\n",
    "    params_to_update = []\n",
    "    for name, param in _net.classifier[num_classifier_layers - 1].named_parameters():\n",
    "        param.requires_grad = True\n",
    "        params_to_update.append(param)\n",
    "\n",
    "    optimizer = optim.SGD(\n",
    "        params_to_update,\n",
    "        lr=LEARNING_RATE,\n",
    "        momentum=MOMENTUM,\n",
    "    )\n",
    "\n",
    "    train_model(_net, dataloaders_dict, criterion, optimizer, num_epochs=NUM_EPOCHS)"
   ]
  },
  {
   "cell_type": "markdown",
   "metadata": {},
   "source": [
    "# 学習したネットワークを保存・ロード"
   ]
  },
  {
   "cell_type": "code",
   "execution_count": 10,
   "metadata": {},
   "outputs": [],
   "source": [
    "# PyTorchのネットワークパラメータの保存\n",
    "save_path = \"./weights_fine_tuning.pth\"\n",
    "torch.save(net.state_dict(), save_path)"
   ]
  },
  {
   "cell_type": "code",
   "execution_count": 11,
   "metadata": {},
   "outputs": [
    {
     "data": {
      "text/plain": [
       "<All keys matched successfully>"
      ]
     },
     "execution_count": 11,
     "metadata": {},
     "output_type": "execute_result"
    }
   ],
   "source": [
    "# PyTorchのネットワークパラメータのロード\n",
    "load_path = \"./weights_fine_tuning.pth\"\n",
    "load_weights = torch.load(load_path)\n",
    "net.load_state_dict(load_weights)\n",
    "\n",
    "# GPU上で保存された重みをCPU上でロードする場合\n",
    "load_weights = torch.load(load_path, map_location={\"cuda:0\": \"cpu\"})\n",
    "net.load_state_dict(load_weights)"
   ]
  },
  {
   "cell_type": "markdown",
   "metadata": {},
   "source": [
    "以上"
   ]
  }
 ],
 "metadata": {
  "kernelspec": {
   "display_name": "Python 3 (ipykernel)",
   "language": "python",
   "name": "python3"
  },
  "language_info": {
   "codemirror_mode": {
    "name": "ipython",
    "version": 3
   },
   "file_extension": ".py",
   "mimetype": "text/x-python",
   "name": "python",
   "nbconvert_exporter": "python",
   "pygments_lexer": "ipython3",
   "version": "3.10.10"
  }
 },
 "nbformat": 4,
 "nbformat_minor": 4
}
