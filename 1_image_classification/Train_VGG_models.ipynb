{
 "cells": [
  {
   "cell_type": "markdown",
   "metadata": {},
   "source": [
    "# 1.5 「ファインチューニング」で精度向上を実現する方法\n",
    "\n",
    "- 本ファイルでは、学習済みのVGGモデルを使用し、ファインチューニングでアリとハチの画像を分類するモデルを学習します\n",
    "\n"
   ]
  },
  {
   "cell_type": "markdown",
   "metadata": {},
   "source": [
    "# 学習目標\n",
    "\n",
    "1.\tPyTorchでGPUを使用する実装コードを書けるようになる\n",
    "2.\t最適化手法の設定において、層ごとに異なる学習率を設定したファインチューニングを実装できるようになる\n",
    "3.\t学習したネットワークを保存・ロードできるようになる\n",
    "\n"
   ]
  },
  {
   "cell_type": "markdown",
   "metadata": {},
   "source": [
    "# 事前準備\n",
    "\n",
    "- 1.4節で解説したAWS EC2 のGPUインスタンスを使用します\n"
   ]
  },
  {
   "cell_type": "code",
   "execution_count": null,
   "metadata": {
    "tags": []
   },
   "outputs": [],
   "source": [
    "# パッケージのimport\n",
    "import random\n",
    "from datetime import datetime\n",
    "\n",
    "import matplotlib.pyplot as plt\n",
    "import numpy as np\n",
    "import torch\n",
    "import torch.nn as nn\n",
    "import torch.optim as optim\n",
    "from torchvision import models\n",
    "from tqdm import tqdm"
   ]
  },
  {
   "cell_type": "code",
   "execution_count": null,
   "metadata": {
    "tags": []
   },
   "outputs": [],
   "source": [
    "print(torch.__version__, torch.cuda.is_available())"
   ]
  },
  {
   "cell_type": "code",
   "execution_count": null,
   "metadata": {
    "tags": []
   },
   "outputs": [],
   "source": [
    "# 乱数のシードを設定\n",
    "torch.manual_seed(1234)\n",
    "np.random.seed(1234)\n",
    "random.seed(1234)"
   ]
  },
  {
   "cell_type": "code",
   "execution_count": null,
   "metadata": {
    "tags": []
   },
   "outputs": [],
   "source": [
    "size = 224\n",
    "mean = (0.485, 0.456, 0.406)\n",
    "std = (0.229, 0.224, 0.225)\n",
    "\n",
    "batch_size = 32"
   ]
  },
  {
   "cell_type": "code",
   "execution_count": null,
   "metadata": {
    "tags": []
   },
   "outputs": [],
   "source": [
    "OUTPUT_FEATURES = 2\n",
    "\n",
    "MODEL_CATEGORY = 'VGG'\n",
    "\n",
    "OPTIMIZER_TYPE = 'Adam'\n",
    "LEARNING_RATIO = 0.001\n",
    "MOMENTUM = 0.0\n",
    "WEIGHT_DECAY = 1e-6\n",
    "\n",
    "NUM_EPOCHS = 30"
   ]
  },
  {
   "cell_type": "markdown",
   "metadata": {},
   "source": [
    "# MLflow"
   ]
  },
  {
   "cell_type": "code",
   "execution_count": null,
   "metadata": {
    "tags": []
   },
   "outputs": [],
   "source": [
    "import mlflow"
   ]
  },
  {
   "cell_type": "code",
   "execution_count": null,
   "metadata": {
    "tags": []
   },
   "outputs": [],
   "source": [
    "# experimentの作成(読み込み)\n",
    "experiment_id = mlflow.set_experiment(MODEL_CATEGORY)  # experimentの設定. 無ければ新規に作成.\n",
    "print(experiment_id.experiment_id)"
   ]
  },
  {
   "cell_type": "markdown",
   "metadata": {},
   "source": [
    "# DatasetとDataLoaderを作成"
   ]
  },
  {
   "cell_type": "code",
   "execution_count": null,
   "metadata": {
    "tags": []
   },
   "outputs": [],
   "source": [
    "# 1.3節で作成したクラスを同じフォルダにあるmake_dataset_dataloader.pyに記載して使用\n",
    "from utils.dataloader_image_classification import (\n",
    "    HymenopteraDataset,\n",
    "    ImageTransform,\n",
    "    make_datapath_list,\n",
    ")\n",
    "\n",
    "# アリとハチの画像へのファイルパスのリストを作成する\n",
    "train_list = make_datapath_list(phase=\"train\")\n",
    "val_list = make_datapath_list(phase=\"val\")\n",
    "\n",
    "# Datasetを作成する\n",
    "train_dataset = HymenopteraDataset(\n",
    "    file_list=train_list, transform=ImageTransform(size, mean, std), phase=\"train\"\n",
    ")\n",
    "\n",
    "val_dataset = HymenopteraDataset(\n",
    "    file_list=val_list, transform=ImageTransform(size, mean, std), phase=\"val\"\n",
    ")\n",
    "\n",
    "\n",
    "# DataLoaderを作成する\n",
    "train_dataloader = torch.utils.data.DataLoader(\n",
    "    train_dataset, batch_size=batch_size, shuffle=True\n",
    ")\n",
    "\n",
    "val_dataloader = torch.utils.data.DataLoader(\n",
    "    val_dataset, batch_size=batch_size, shuffle=False\n",
    ")\n",
    "\n",
    "# 辞書オブジェクトにまとめる\n",
    "dataloaders_dict = {\"train\": train_dataloader, \"val\": val_dataloader}"
   ]
  },
  {
   "cell_type": "markdown",
   "metadata": {},
   "source": [
    "# モデルを学習させる関数を作成"
   ]
  },
  {
   "cell_type": "code",
   "execution_count": null,
   "metadata": {
    "tags": []
   },
   "outputs": [],
   "source": [
    "def plot_history(name, history):\n",
    "    fig, axes = plt.subplots(1, 2, figsize=(10, 4), tight_layout=True)\n",
    "    axes[0].plot(\n",
    "        range(len(history[\"train\"][\"loss\"])),\n",
    "        history[\"train\"][\"loss\"],\n",
    "        \"r-o\",\n",
    "        label=f\"{name}-train\",\n",
    "    )\n",
    "    axes[0].plot(\n",
    "        range(len(history[\"val\"][\"loss\"])),\n",
    "        history[\"val\"][\"loss\"],\n",
    "        \"b--s\",\n",
    "        label=f\"{name}-val\",\n",
    "    )\n",
    "    axes[0].set_xlabel(\"Epochs\", size=14)\n",
    "    axes[0].set_ylabel(\"Loss\", size=14)\n",
    "    axes[0].tick_params(labelsize=12)\n",
    "    axes[0].grid()\n",
    "    axes[0].legend()\n",
    "\n",
    "    axes[1].plot(\n",
    "        range(len(history[\"train\"][\"acc\"])),\n",
    "        history[\"train\"][\"acc\"],\n",
    "        \"r-o\",\n",
    "        label=f\"{name}-train\",\n",
    "    )\n",
    "    axes[1].plot(\n",
    "        range(len(history[\"val\"][\"acc\"])),\n",
    "        history[\"val\"][\"acc\"],\n",
    "        \"b--s\",\n",
    "        label=f\"{name}-val\",\n",
    "    )\n",
    "    axes[1].set_xlabel(\"Epochs\", size=14)\n",
    "    axes[1].set_ylabel(\"Accuracy\", size=14)\n",
    "    axes[1].tick_params(labelsize=12)\n",
    "    axes[1].grid()\n",
    "    axes[1].legend()\n",
    "    plt.suptitle(f\"{name}\", size=16)\n",
    "    # plt.show()\n",
    "    return fig"
   ]
  },
  {
   "cell_type": "code",
   "execution_count": null,
   "metadata": {
    "tags": []
   },
   "outputs": [],
   "source": [
    "def train_model(name, net, dataloaders_dict, criterion, optimizer, num_epochs):\n",
    "    # 初期設定\n",
    "    # GPUが使えるかを確認\n",
    "    device = torch.device(\"cuda:0\" if torch.cuda.is_available() else \"cpu\")\n",
    "    print(\"使用デバイス：\", device)\n",
    "\n",
    "    # ネットワークをGPUへ\n",
    "    net.to(device)\n",
    "\n",
    "    # ネットワークがある程度固定であれば、高速化させる\n",
    "    torch.backends.cudnn.benchmark = True\n",
    "\n",
    "    # epochのループ\n",
    "    history = {}\n",
    "    history[\"train\"] = {}\n",
    "    history[\"val\"] = {}\n",
    "    history[\"train\"][\"loss\"] = []\n",
    "    history[\"train\"][\"acc\"] = []\n",
    "    history[\"val\"][\"loss\"] = []\n",
    "    history[\"val\"][\"acc\"] = []\n",
    "\n",
    "    for epoch in range(num_epochs):\n",
    "        print(\"Epoch {}/{}\".format(epoch + 1, num_epochs))\n",
    "        # print(\"-------------\")\n",
    "\n",
    "        # epochごとの訓練と検証のループ\n",
    "        for phase in [\"train\", \"val\"]:\n",
    "            if phase == \"train\":\n",
    "                net.train()  # モデルを訓練モードに\n",
    "            else:\n",
    "                net.eval()  # モデルを検証モードに\n",
    "\n",
    "            epoch_loss = 0.0  # epochの損失和\n",
    "            epoch_corrects = 0  # epochの正解数\n",
    "\n",
    "            # # 未学習時の検証性能を確かめるため、epoch=0の訓練は省略\n",
    "            # if (epoch == 0) and (phase == \"train\"):\n",
    "            #     continue\n",
    "\n",
    "            # データローダーからミニバッチを取り出すループ\n",
    "            for inputs, labels in tqdm(dataloaders_dict[phase]):\n",
    "                # GPUが使えるならGPUにデータを送る\n",
    "                inputs = inputs.to(device)\n",
    "                labels = labels.to(device)\n",
    "\n",
    "                # optimizerを初期化\n",
    "                optimizer.zero_grad()\n",
    "\n",
    "                # 順伝搬（forward）計算\n",
    "                with torch.set_grad_enabled(phase == \"train\"):\n",
    "                    outputs = net(inputs)\n",
    "                    loss = criterion(outputs, labels)  # 損失を計算\n",
    "                    _, preds = torch.max(outputs, 1)  # ラベルを予測\n",
    "\n",
    "                    # 訓練時はバックプロパゲーション\n",
    "                    if phase == \"train\":\n",
    "                        loss.backward()\n",
    "                        optimizer.step()\n",
    "\n",
    "                    # 結果の計算\n",
    "                    epoch_loss += loss.item() * inputs.size(0)  # lossの合計を更新\n",
    "                    # 正解数の合計を更新\n",
    "                    epoch_corrects += torch.sum(preds == labels.data)\n",
    "\n",
    "            # epochごとのlossと正解率を表示\n",
    "            epoch_loss = epoch_loss / len(dataloaders_dict[phase].dataset)\n",
    "            epoch_acc = epoch_corrects.cpu().double() / len(dataloaders_dict[phase].dataset)\n",
    "\n",
    "            print(\"{} Loss: {:.4f} Acc: {:.4f}\".format(phase, epoch_loss, epoch_acc))\n",
    "            history[phase][\"loss\"].append(epoch_loss)\n",
    "            history[phase][\"acc\"].append(epoch_acc)\n",
    "\n",
    "            # MLflow: track metrics\n",
    "            mlflow.log_metric(f\"{phase}_loss\", epoch_loss, step=epoch)  # Train Loss\n",
    "            mlflow.log_metric(f\"{phase}_acc\", epoch_acc, step=epoch)  # Train Loss\n",
    "\n",
    "    return history"
   ]
  },
  {
   "cell_type": "markdown",
   "metadata": {},
   "source": [
    "# 損失関数を定義"
   ]
  },
  {
   "cell_type": "code",
   "execution_count": null,
   "metadata": {
    "tags": []
   },
   "outputs": [],
   "source": [
    "# 損失関数の設定\n",
    "criterion = nn.CrossEntropyLoss()"
   ]
  },
  {
   "cell_type": "markdown",
   "metadata": {},
   "source": [
    "# ネットワークモデルの作成"
   ]
  },
  {
   "cell_type": "code",
   "execution_count": null,
   "metadata": {
    "tags": []
   },
   "outputs": [],
   "source": [
    "def replace_last_layer_vgg(_net, output_features):\n",
    "    last_in_features = _net.classifier[-1].in_features\n",
    "    _net.classifier[-1] = nn.Linear(in_features=last_in_features, out_features=output_features)\n",
    "    return _net\n",
    "\n",
    "def params_in_last_layers(_net):\n",
    "    params_to_update = []\n",
    "    for param in _net.classifier[-1].parameters():\n",
    "        param.requires_grad = True\n",
    "        params_to_update.append(param)\n",
    "    return params_to_update"
   ]
  },
  {
   "cell_type": "code",
   "execution_count": null,
   "metadata": {
    "tags": []
   },
   "outputs": [],
   "source": [
    "vgg_models = {\n",
    "    \"vgg16\": {'model': models.vgg16, 'weights': models.VGG16_Weights.DEFAULT, 'layers': 16},\n",
    "    \"vgg16_bn\": {'model': models.vgg16_bn, 'weights': models.VGG16_BN_Weights.DEFAULT, 'layers': 17},\n",
    "    \"vgg19\": {'model': models.vgg19, 'weights': models.VGG19_Weights.DEFAULT, 'layers': 19},\n",
    "    \"vgg19_bn\": {'model': models.vgg19_bn, 'weights': models.VGG19_BN_Weights.DEFAULT, 'layers': 20},\n",
    "}"
   ]
  },
  {
   "cell_type": "code",
   "execution_count": null,
   "metadata": {
    "tags": []
   },
   "outputs": [],
   "source": [
    "mlflow.end_run()"
   ]
  },
  {
   "cell_type": "markdown",
   "metadata": {},
   "source": [
    "# Start run"
   ]
  },
  {
   "cell_type": "code",
   "execution_count": null,
   "metadata": {},
   "outputs": [],
   "source": [
    "save_dir = '../../../model'"
   ]
  },
  {
   "cell_type": "code",
   "execution_count": null,
   "metadata": {
    "scrolled": true,
    "tags": []
   },
   "outputs": [],
   "source": [
    "vgg_results = {}\n",
    "for name, model_dict in vgg_models.items():\n",
    "    model = model_dict[\"model\"]\n",
    "    weights = model_dict[\"weights\"]\n",
    "\n",
    "    # MLflow: runの作成\n",
    "    now = datetime.now().strftime(\"%Y%m%d_%H%M%S\")\n",
    "    run_name = f\"{name}_{OPTIMIZER_TYPE}_LR{LEARNING_RATIO}_EPOCH{NUM_EPOCHS}_{now}\"\n",
    "    mlflow_run = mlflow.start_run(\n",
    "        experiment_id=experiment_id.experiment_id,  # set_experimentの返り値を入れる.\n",
    "        run_name=run_name,  # run_nameに、作成時刻を用いるようにした.\n",
    "    )\n",
    "\n",
    "    # MLflow: track params\n",
    "    mlflow.log_params(\n",
    "        {\n",
    "            \"Model\": name,\n",
    "            \"Layers\": model_dict[\"layers\"],\n",
    "            \"Learning_ratio\": LEARNING_RATIO,  # Learning ratio\n",
    "            \"Num_epochs\": NUM_EPOCHS,  # num of Epochs\n",
    "            \"Optimizer\": OPTIMIZER_TYPE,  # optimizer\n",
    "        }\n",
    "    )\n",
    "\n",
    "    _net = model(weights=weights)\n",
    "    _net = replace_last_layer_vgg(_net, OUTPUT_FEATURES)\n",
    "    _net.train()\n",
    "    print(\"Model:\", name)\n",
    "\n",
    "    # 学習させるパラメータ以外は勾配計算をなくし、変化しないように設定\n",
    "    for param in _net.parameters():\n",
    "        param.requires_grad = False\n",
    "\n",
    "    params_to_update = params_in_last_layers(_net)\n",
    "\n",
    "    if OPTIMIZER_TYPE=='SGD':\n",
    "        optimizer = optim.SGD(\n",
    "            params_to_update,\n",
    "            lr=LEARNING_RATIO,\n",
    "            momentum=MOMENTUM,\n",
    "        )\n",
    "        mlflow.log_params(\n",
    "            {\n",
    "                \"Momentum\": MOMENTUM,\n",
    "            }\n",
    "        )\n",
    "    elif OPTIMIZER_TYPE=='Adam':\n",
    "        optimizer = optim.Adam(\n",
    "            params_to_update,\n",
    "            lr=LEARNING_RATIO,\n",
    "            weight_decay=WEIGHT_DECAY,\n",
    "        )\n",
    "        mlflow.log_params(\n",
    "            {\n",
    "                \"Weight_decay\": WEIGHT_DECAY,\n",
    "            }\n",
    "        )\n",
    "\n",
    "    history = train_model(\n",
    "        name, _net, dataloaders_dict, criterion, optimizer, num_epochs=NUM_EPOCHS\n",
    "    )\n",
    "    vgg_results[name] = history\n",
    "\n",
    "    # PyTorchのネットワークパラメータの保存\n",
    "    save_name = f\"{name}_weights_fine_tuning.pth\"\n",
    "    save_path = os.path.join(save_dir, save_name)\n",
    "    torch.save(_net.state_dict(), save_path)\n",
    "    \n",
    "    mlflow.log_artifact(save_path)\n",
    "\n",
    "    # # MLflow: track figure\n",
    "    # figure = plot_history(name, history)\n",
    "    # mlflow.log_figure(figure, \"history.png\")\n",
    "\n",
    "    # MLflowL end run\n",
    "    mlflow.end_run()"
   ]
  },
  {
   "cell_type": "code",
   "execution_count": null,
   "metadata": {
    "tags": []
   },
   "outputs": [],
   "source": [
    "fig, axes = plt.subplots(1, 2, figsize=(10, 4), tight_layout=True)\n",
    "for model in vgg_results.keys():\n",
    "    # for phase in vgg_results[model].keys():\n",
    "    for phase in [\"val\"]:\n",
    "        axes[0].plot(\n",
    "            range(len(vgg_results[model][phase][\"loss\"])),\n",
    "            vgg_results[model][phase][\"loss\"],\n",
    "            # plot_style[phase],\n",
    "            label=f\"{model}-{phase}\",\n",
    "        )\n",
    "axes[0].set_xlabel(\"Epochs\", size=14)\n",
    "axes[0].set_ylabel(\"Loss\", size=14)\n",
    "axes[0].tick_params(labelsize=12)\n",
    "axes[0].grid()\n",
    "axes[0].legend()\n",
    "\n",
    "for model in vgg_results.keys():\n",
    "    # for phase in vgg_results[model].keys():\n",
    "    for phase in [\"val\"]:\n",
    "        axes[1].plot(\n",
    "            range(len(vgg_results[model][phase][\"acc\"])),\n",
    "            vgg_results[model][phase][\"acc\"],\n",
    "            # plot_style[phase],\n",
    "            label=f\"{model}-{phase}\",\n",
    "        )\n",
    "axes[1].set_xlabel(\"Epochs\", size=14)\n",
    "axes[1].set_ylabel(\"Accuracy\", size=14)\n",
    "axes[1].tick_params(labelsize=12)\n",
    "axes[1].grid()\n",
    "axes[1].legend()\n",
    "plt.show()"
   ]
  },
  {
   "cell_type": "markdown",
   "metadata": {},
   "source": [
    "# 学習したネットワークを保存・ロード"
   ]
  },
  {
   "cell_type": "code",
   "execution_count": null,
   "metadata": {
    "tags": []
   },
   "outputs": [],
   "source": [
    "# # PyTorchのネットワークパラメータの保存\n",
    "# save_path = \"./weights_fine_tuning.pth\"\n",
    "# torch.save(net.state_dict(), save_path)"
   ]
  },
  {
   "cell_type": "code",
   "execution_count": null,
   "metadata": {},
   "outputs": [],
   "source": [
    "# # PyTorchのネットワークパラメータのロード\n",
    "# load_path = \"./weights_fine_tuning.pth\"\n",
    "# load_weights = torch.load(load_path)\n",
    "# net.load_state_dict(load_weights)\n",
    "\n",
    "# # GPU上で保存された重みをCPU上でロードする場合\n",
    "# load_weights = torch.load(load_path, map_location={\"cuda:0\": \"cpu\"})\n",
    "# net.load_state_dict(load_weights)"
   ]
  },
  {
   "cell_type": "markdown",
   "metadata": {},
   "source": [
    "以上"
   ]
  }
 ],
 "metadata": {
  "kernelspec": {
   "display_name": "Python 3 (ipykernel)",
   "language": "python",
   "name": "python3"
  },
  "language_info": {
   "codemirror_mode": {
    "name": "ipython",
    "version": 3
   },
   "file_extension": ".py",
   "mimetype": "text/x-python",
   "name": "python",
   "nbconvert_exporter": "python",
   "pygments_lexer": "ipython3",
   "version": "3.10.10"
  }
 },
 "nbformat": 4,
 "nbformat_minor": 4
}
