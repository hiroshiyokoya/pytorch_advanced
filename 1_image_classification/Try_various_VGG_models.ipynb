{
 "cells": [
  {
   "cell_type": "markdown",
   "metadata": {},
   "source": [
    "# 1.5 「ファインチューニング」で精度向上を実現する方法\n",
    "\n",
    "- 本ファイルでは、学習済みのVGGモデルを使用し、ファインチューニングでアリとハチの画像を分類するモデルを学習します\n",
    "\n"
   ]
  },
  {
   "cell_type": "markdown",
   "metadata": {},
   "source": [
    "# 学習目標\n",
    "\n",
    "1.\tPyTorchでGPUを使用する実装コードを書けるようになる\n",
    "2.\t最適化手法の設定において、層ごとに異なる学習率を設定したファインチューニングを実装できるようになる\n",
    "3.\t学習したネットワークを保存・ロードできるようになる\n",
    "\n"
   ]
  },
  {
   "cell_type": "markdown",
   "metadata": {},
   "source": [
    "# 事前準備\n",
    "\n",
    "- 1.4節で解説したAWS EC2 のGPUインスタンスを使用します\n"
   ]
  },
  {
   "cell_type": "code",
   "execution_count": 1,
   "metadata": {},
   "outputs": [],
   "source": [
    "# パッケージのimport\n",
    "import random\n",
    "\n",
    "import matplotlib.pyplot as plt\n",
    "import numpy as np\n",
    "import torch\n",
    "import torch.nn as nn\n",
    "import torch.optim as optim\n",
    "from torchvision import models\n",
    "from tqdm import tqdm"
   ]
  },
  {
   "cell_type": "code",
   "execution_count": 2,
   "metadata": {
    "tags": []
   },
   "outputs": [
    {
     "name": "stdout",
     "output_type": "stream",
     "text": [
      "2.0.0+cu117 False\n"
     ]
    }
   ],
   "source": [
    "print(torch.__version__, torch.cuda.is_available())"
   ]
  },
  {
   "cell_type": "code",
   "execution_count": 3,
   "metadata": {},
   "outputs": [],
   "source": [
    "# 乱数のシードを設定\n",
    "torch.manual_seed(1234)\n",
    "np.random.seed(1234)\n",
    "random.seed(1234)"
   ]
  },
  {
   "cell_type": "code",
   "execution_count": 4,
   "metadata": {
    "tags": []
   },
   "outputs": [],
   "source": [
    "size = 224\n",
    "mean = (0.485, 0.456, 0.406)\n",
    "std = (0.229, 0.224, 0.225)"
   ]
  },
  {
   "cell_type": "code",
   "execution_count": 5,
   "metadata": {
    "tags": []
   },
   "outputs": [],
   "source": [
    "OUTPUT_FEATURES = 2\n",
    "\n",
    "LEARNING_RATE = 0.001\n",
    "WEIGHT_DECAY = 5e-4\n",
    "MOMENTUM = 0.5\n",
    "\n",
    "NUM_EPOCHS = 8"
   ]
  },
  {
   "cell_type": "markdown",
   "metadata": {},
   "source": [
    "# DatasetとDataLoaderを作成"
   ]
  },
  {
   "cell_type": "code",
   "execution_count": 6,
   "metadata": {},
   "outputs": [
    {
     "name": "stdout",
     "output_type": "stream",
     "text": [
      "./data/hymenoptera_data/train/**/*.jpg\n",
      "./data/hymenoptera_data/val/**/*.jpg\n"
     ]
    }
   ],
   "source": [
    "# 1.3節で作成したクラスを同じフォルダにあるmake_dataset_dataloader.pyに記載して使用\n",
    "from utils.dataloader_image_classification import (\n",
    "    HymenopteraDataset,\n",
    "    ImageTransform,\n",
    "    make_datapath_list,\n",
    ")\n",
    "\n",
    "# アリとハチの画像へのファイルパスのリストを作成する\n",
    "train_list = make_datapath_list(phase=\"train\")\n",
    "val_list = make_datapath_list(phase=\"val\")\n",
    "\n",
    "# Datasetを作成する\n",
    "train_dataset = HymenopteraDataset(\n",
    "    file_list=train_list, transform=ImageTransform(size, mean, std), phase=\"train\"\n",
    ")\n",
    "\n",
    "val_dataset = HymenopteraDataset(\n",
    "    file_list=val_list, transform=ImageTransform(size, mean, std), phase=\"val\"\n",
    ")\n",
    "\n",
    "\n",
    "# DataLoaderを作成する\n",
    "batch_size = 32\n",
    "\n",
    "train_dataloader = torch.utils.data.DataLoader(\n",
    "    train_dataset, batch_size=batch_size, shuffle=True\n",
    ")\n",
    "\n",
    "val_dataloader = torch.utils.data.DataLoader(\n",
    "    val_dataset, batch_size=batch_size, shuffle=False\n",
    ")\n",
    "\n",
    "# 辞書オブジェクトにまとめる\n",
    "dataloaders_dict = {\"train\": train_dataloader, \"val\": val_dataloader}"
   ]
  },
  {
   "cell_type": "markdown",
   "metadata": {},
   "source": [
    "# モデルを学習させる関数を作成"
   ]
  },
  {
   "cell_type": "code",
   "execution_count": 7,
   "metadata": {},
   "outputs": [],
   "source": [
    "def train_model(net, dataloaders_dict, criterion, optimizer, num_epochs):\n",
    "    # 初期設定\n",
    "    # GPUが使えるかを確認\n",
    "    device = torch.device(\"cuda:0\" if torch.cuda.is_available() else \"cpu\")\n",
    "    print(\"使用デバイス：\", device)\n",
    "\n",
    "    # ネットワークをGPUへ\n",
    "    net.to(device)\n",
    "\n",
    "    # ネットワークがある程度固定であれば、高速化させる\n",
    "    torch.backends.cudnn.benchmark = True\n",
    "\n",
    "    # epochのループ\n",
    "    history = {}\n",
    "    history[\"train\"] = {}\n",
    "    history[\"val\"] = {}\n",
    "    history[\"train\"][\"loss\"] = []\n",
    "    history[\"train\"][\"acc\"] = []\n",
    "    history[\"val\"][\"loss\"] = []\n",
    "    history[\"val\"][\"acc\"] = []\n",
    "\n",
    "    for epoch in range(num_epochs):\n",
    "        print(\"Epoch {}/{}\".format(epoch + 1, num_epochs))\n",
    "        # print(\"-------------\")\n",
    "\n",
    "        # epochごとの訓練と検証のループ\n",
    "        for phase in [\"train\", \"val\"]:\n",
    "            if phase == \"train\":\n",
    "                net.train()  # モデルを訓練モードに\n",
    "            else:\n",
    "                net.eval()  # モデルを検証モードに\n",
    "\n",
    "            epoch_loss = 0.0  # epochの損失和\n",
    "            epoch_corrects = 0  # epochの正解数\n",
    "\n",
    "            # 未学習時の検証性能を確かめるため、epoch=0の訓練は省略\n",
    "            if (epoch == 0) and (phase == \"train\"):\n",
    "                continue\n",
    "\n",
    "            # データローダーからミニバッチを取り出すループ\n",
    "            for inputs, labels in tqdm(dataloaders_dict[phase]):\n",
    "                # GPUが使えるならGPUにデータを送る\n",
    "                inputs = inputs.to(device)\n",
    "                labels = labels.to(device)\n",
    "\n",
    "                # optimizerを初期化\n",
    "                optimizer.zero_grad()\n",
    "\n",
    "                # 順伝搬（forward）計算\n",
    "                with torch.set_grad_enabled(phase == \"train\"):\n",
    "                    outputs = net(inputs)\n",
    "                    loss = criterion(outputs, labels)  # 損失を計算\n",
    "                    _, preds = torch.max(outputs, 1)  # ラベルを予測\n",
    "\n",
    "                    # 訓練時はバックプロパゲーション\n",
    "                    if phase == \"train\":\n",
    "                        loss.backward()\n",
    "                        optimizer.step()\n",
    "\n",
    "                    # 結果の計算\n",
    "                    epoch_loss += loss.item() * inputs.size(0)  # lossの合計を更新\n",
    "                    # 正解数の合計を更新\n",
    "                    epoch_corrects += torch.sum(preds == labels.data)\n",
    "\n",
    "            # epochごとのlossと正解率を表示\n",
    "            epoch_loss = epoch_loss / len(dataloaders_dict[phase].dataset)\n",
    "            epoch_acc = epoch_corrects.double() / len(dataloaders_dict[phase].dataset)\n",
    "\n",
    "            print(\"{} Loss: {:.4f} Acc: {:.4f}\".format(phase, epoch_loss, epoch_acc))\n",
    "            history[phase][\"loss\"].append(epoch_loss)\n",
    "            history[phase][\"acc\"].append(epoch_acc)\n",
    "    return history"
   ]
  },
  {
   "cell_type": "markdown",
   "metadata": {},
   "source": [
    "# 損失関数を定義"
   ]
  },
  {
   "cell_type": "code",
   "execution_count": 8,
   "metadata": {},
   "outputs": [],
   "source": [
    "# 損失関数の設定\n",
    "criterion = nn.CrossEntropyLoss()"
   ]
  },
  {
   "cell_type": "markdown",
   "metadata": {},
   "source": [
    "# ネットワークモデルの作成"
   ]
  },
  {
   "cell_type": "code",
   "execution_count": 9,
   "metadata": {
    "tags": []
   },
   "outputs": [],
   "source": [
    "vgg_models = {\n",
    "    \"vgg16\": (models.vgg16, models.VGG16_Weights.DEFAULT),\n",
    "    \"vgg16_bn\": (models.vgg16_bn, models.VGG16_BN_Weights.DEFAULT),\n",
    "    \"vgg19\": (models.vgg19, models.VGG19_Weights.DEFAULT),\n",
    "    \"vgg19_bn\": (models.vgg19_bn, models.VGG19_BN_Weights.DEFAULT),\n",
    "}"
   ]
  },
  {
   "cell_type": "code",
   "execution_count": 10,
   "metadata": {
    "scrolled": true,
    "tags": []
   },
   "outputs": [
    {
     "name": "stdout",
     "output_type": "stream",
     "text": [
      "Model: vgg16 7 4096\n",
      "使用デバイス： cpu\n",
      "Epoch 1/8\n"
     ]
    },
    {
     "name": "stderr",
     "output_type": "stream",
     "text": [
      "100%|██████████| 5/5 [00:26<00:00,  5.33s/it]\n"
     ]
    },
    {
     "name": "stdout",
     "output_type": "stream",
     "text": [
      "val Loss: 0.7702 Acc: 0.4444\n",
      "Epoch 2/8\n"
     ]
    },
    {
     "name": "stderr",
     "output_type": "stream",
     "text": [
      "100%|██████████| 8/8 [00:41<00:00,  5.18s/it]\n"
     ]
    },
    {
     "name": "stdout",
     "output_type": "stream",
     "text": [
      "train Loss: 0.3731 Acc: 0.8189\n"
     ]
    },
    {
     "name": "stderr",
     "output_type": "stream",
     "text": [
      "100%|██████████| 5/5 [00:26<00:00,  5.35s/it]\n"
     ]
    },
    {
     "name": "stdout",
     "output_type": "stream",
     "text": [
      "val Loss: 0.1313 Acc: 0.9608\n",
      "Epoch 3/8\n"
     ]
    },
    {
     "name": "stderr",
     "output_type": "stream",
     "text": [
      "100%|██████████| 8/8 [00:41<00:00,  5.18s/it]\n"
     ]
    },
    {
     "name": "stdout",
     "output_type": "stream",
     "text": [
      "train Loss: 0.1208 Acc: 0.9630\n"
     ]
    },
    {
     "name": "stderr",
     "output_type": "stream",
     "text": [
      "100%|██████████| 5/5 [00:26<00:00,  5.32s/it]\n"
     ]
    },
    {
     "name": "stdout",
     "output_type": "stream",
     "text": [
      "val Loss: 0.1145 Acc: 0.9477\n",
      "Epoch 4/8\n"
     ]
    },
    {
     "name": "stderr",
     "output_type": "stream",
     "text": [
      "100%|██████████| 8/8 [00:42<00:00,  5.25s/it]\n"
     ]
    },
    {
     "name": "stdout",
     "output_type": "stream",
     "text": [
      "train Loss: 0.0651 Acc: 0.9753\n"
     ]
    },
    {
     "name": "stderr",
     "output_type": "stream",
     "text": [
      "100%|██████████| 5/5 [00:26<00:00,  5.28s/it]\n"
     ]
    },
    {
     "name": "stdout",
     "output_type": "stream",
     "text": [
      "val Loss: 0.1040 Acc: 0.9477\n",
      "Epoch 5/8\n"
     ]
    },
    {
     "name": "stderr",
     "output_type": "stream",
     "text": [
      "100%|██████████| 8/8 [00:41<00:00,  5.22s/it]\n"
     ]
    },
    {
     "name": "stdout",
     "output_type": "stream",
     "text": [
      "train Loss: 0.0762 Acc: 0.9712\n"
     ]
    },
    {
     "name": "stderr",
     "output_type": "stream",
     "text": [
      "100%|██████████| 5/5 [00:26<00:00,  5.33s/it]\n"
     ]
    },
    {
     "name": "stdout",
     "output_type": "stream",
     "text": [
      "val Loss: 0.0970 Acc: 0.9477\n",
      "Epoch 6/8\n"
     ]
    },
    {
     "name": "stderr",
     "output_type": "stream",
     "text": [
      "100%|██████████| 8/8 [00:43<00:00,  5.40s/it]\n"
     ]
    },
    {
     "name": "stdout",
     "output_type": "stream",
     "text": [
      "train Loss: 0.0600 Acc: 0.9794\n"
     ]
    },
    {
     "name": "stderr",
     "output_type": "stream",
     "text": [
      "100%|██████████| 5/5 [00:26<00:00,  5.27s/it]\n"
     ]
    },
    {
     "name": "stdout",
     "output_type": "stream",
     "text": [
      "val Loss: 0.0909 Acc: 0.9477\n",
      "Epoch 7/8\n"
     ]
    },
    {
     "name": "stderr",
     "output_type": "stream",
     "text": [
      "100%|██████████| 8/8 [00:42<00:00,  5.29s/it]\n"
     ]
    },
    {
     "name": "stdout",
     "output_type": "stream",
     "text": [
      "train Loss: 0.0477 Acc: 0.9794\n"
     ]
    },
    {
     "name": "stderr",
     "output_type": "stream",
     "text": [
      "100%|██████████| 5/5 [00:26<00:00,  5.32s/it]\n"
     ]
    },
    {
     "name": "stdout",
     "output_type": "stream",
     "text": [
      "val Loss: 0.0960 Acc: 0.9542\n",
      "Epoch 8/8\n"
     ]
    },
    {
     "name": "stderr",
     "output_type": "stream",
     "text": [
      "100%|██████████| 8/8 [00:42<00:00,  5.28s/it]\n"
     ]
    },
    {
     "name": "stdout",
     "output_type": "stream",
     "text": [
      "train Loss: 0.0412 Acc: 0.9918\n"
     ]
    },
    {
     "name": "stderr",
     "output_type": "stream",
     "text": [
      "100%|██████████| 5/5 [00:26<00:00,  5.31s/it]\n"
     ]
    },
    {
     "name": "stdout",
     "output_type": "stream",
     "text": [
      "val Loss: 0.0945 Acc: 0.9542\n",
      "Model: vgg16_bn 7 4096\n",
      "使用デバイス： cpu\n",
      "Epoch 1/8\n"
     ]
    },
    {
     "name": "stderr",
     "output_type": "stream",
     "text": [
      " 80%|████████  | 4/5 [00:25<00:06,  6.45s/it]\n",
      "\n",
      "KeyboardInterrupt\n",
      "\n"
     ]
    }
   ],
   "source": [
    "vgg_results = {}\n",
    "for name, (model, weights) in vgg_models.items():\n",
    "    _net = model(weights=weights)\n",
    "    num_classifier_layers = len(_net.classifier)\n",
    "    last_in_features = _net.classifier[num_classifier_layers - 1].in_features\n",
    "    _net.classifier[num_classifier_layers - 1] = nn.Linear(\n",
    "        in_features=last_in_features, out_features=OUTPUT_FEATURES\n",
    "    )\n",
    "    _net.train()\n",
    "    print(\"Model:\", name, num_classifier_layers, last_in_features)\n",
    "\n",
    "    # # 学習させるパラメータ以外は勾配計算をなくし、変化しないように設定\n",
    "    # for param in _net.parameters():\n",
    "    #     param.requires_grad = False\n",
    "\n",
    "    params_to_update = []\n",
    "    for param in _net.classifier[num_classifier_layers - 1].parameters():\n",
    "        param.requires_grad = True\n",
    "        params_to_update.append(param)\n",
    "\n",
    "    # optimizer = optim.SGD(\n",
    "    #     params_to_update,\n",
    "    #     lr=LEARNING_RATE,\n",
    "    #     momentum=MOMENTUM,\n",
    "    # )\n",
    "    optimizer = optim.Adam(\n",
    "        params_to_update,\n",
    "        lr=LEARNING_RATE,\n",
    "        weight_decay=WEIGHT_DECAY,\n",
    "    )\n",
    "\n",
    "    history = train_model(\n",
    "        _net, dataloaders_dict, criterion, optimizer, num_epochs=NUM_EPOCHS\n",
    "    )\n",
    "    vgg_results[name] = history"
   ]
  },
  {
   "cell_type": "code",
   "execution_count": 13,
   "metadata": {
    "tags": []
   },
   "outputs": [
    {
     "data": {
      "image/png": "[encoded data removed]",
      "text/plain": [
       "<Figure size 1000x400 with 2 Axes>"
      ]
     },
     "metadata": {},
     "output_type": "display_data"
    }
   ],
   "source": [
    "fig, axes = plt.subplots(1, 2, figsize=(10, 4), tight_layout=True)\n",
    "for model in vgg_results.keys():\n",
    "    for phase in vgg_results[model].keys():\n",
    "        axes[0].plot(\n",
    "            range(len(vgg_results[model][phase][\"loss\"])),\n",
    "            vgg_results[model][phase][\"loss\"],\n",
    "            label=f\"{model}-{phase}\",\n",
    "        )\n",
    "axes[0].set_xlabel(\"Epochs\", size=14)\n",
    "axes[0].set_ylabel(\"Loss\", size=14)\n",
    "axes[0].tick_params(labelsize=12)\n",
    "axes[0].grid()\n",
    "axes[0].legend()\n",
    "\n",
    "for model in vgg_results.keys():\n",
    "    for phase in vgg_results[model].keys():\n",
    "        axes[1].plot(\n",
    "            range(len(vgg_results[model][phase][\"acc\"])),\n",
    "            vgg_results[model][phase][\"acc\"],\n",
    "            label=f\"{model}-{phase}\",\n",
    "        )\n",
    "axes[1].set_xlabel(\"Epochs\", size=14)\n",
    "axes[1].set_ylabel(\"Accuracy\", size=14)\n",
    "axes[1].tick_params(labelsize=12)\n",
    "axes[1].grid()\n",
    "axes[1].legend()\n",
    "plt.show()"
   ]
  },
  {
   "cell_type": "markdown",
   "metadata": {},
   "source": [
    "# 学習したネットワークを保存・ロード"
   ]
  },
  {
   "cell_type": "code",
   "execution_count": null,
   "metadata": {},
   "outputs": [],
   "source": [
    "# # PyTorchのネットワークパラメータの保存\n",
    "# save_path = \"./weights_fine_tuning.pth\"\n",
    "# torch.save(net.state_dict(), save_path)"
   ]
  },
  {
   "cell_type": "code",
   "execution_count": null,
   "metadata": {},
   "outputs": [],
   "source": [
    "# # PyTorchのネットワークパラメータのロード\n",
    "# load_path = \"./weights_fine_tuning.pth\"\n",
    "# load_weights = torch.load(load_path)\n",
    "# net.load_state_dict(load_weights)\n",
    "\n",
    "# # GPU上で保存された重みをCPU上でロードする場合\n",
    "# load_weights = torch.load(load_path, map_location={\"cuda:0\": \"cpu\"})\n",
    "# net.load_state_dict(load_weights)"
   ]
  },
  {
   "cell_type": "markdown",
   "metadata": {},
   "source": [
    "以上"
   ]
  }
 ],
 "metadata": {
  "kernelspec": {
   "display_name": "Python 3 (ipykernel)",
   "language": "python",
   "name": "python3"
  },
  "language_info": {
   "codemirror_mode": {
    "name": "ipython",
    "version": 3
   },
   "file_extension": ".py",
   "mimetype": "text/x-python",
   "name": "python",
   "nbconvert_exporter": "python",
   "pygments_lexer": "ipython3",
   "version": "3.10.10"
  }
 },
 "nbformat": 4,
 "nbformat_minor": 4
}
